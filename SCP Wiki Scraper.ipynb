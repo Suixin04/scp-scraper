{
 "cells": [
  {
   "cell_type": "markdown",
   "id": "fd061bbd",
   "metadata": {},
   "source": [
    "# SCP Wiki Web Scraper"
   ]
  },
  {
   "cell_type": "markdown",
   "id": "9b86d2b6",
   "metadata": {},
   "source": [
    "Initialize the following first"
   ]
  },
  {
   "cell_type": "code",
   "execution_count": 1,
   "id": "1908891d",
   "metadata": {},
   "outputs": [],
   "source": [
    "import requests\n",
    "from bs4 import BeautifulSoup\n",
    "import json\n",
    "\n",
    "import re\n",
    "\n",
    "base_url = \"https://scp-wiki.wikidot.com/scp-\""
   ]
  },
  {
   "cell_type": "markdown",
   "id": "2b97f843",
   "metadata": {},
   "source": [
    "### Helper Functions"
   ]
  },
  {
   "cell_type": "code",
   "execution_count": 2,
   "id": "b5d8291d",
   "metadata": {},
   "outputs": [],
   "source": [
    "def relax_key(current_key: str) -> str:\n",
    "    if (current_key == 'Item #:'):\n",
    "        return 'id'\n",
    "    elif (current_key == 'Object Class:'):\n",
    "        return 'class'\n",
    "    elif (current_key == 'Description:'):\n",
    "        return 'description'\n",
    "    elif (current_key == 'Special Containment Procedures:'): \n",
    "        return 'containment' \n",
    "    return current_key[:-1]"
   ]
  },
  {
   "cell_type": "code",
   "execution_count": 3,
   "id": "35698c28",
   "metadata": {},
   "outputs": [],
   "source": [
    "def harmonize_id(_id: int) -> str:\n",
    "    if _id < 10:\n",
    "        return '00' + str(_id)\n",
    "    elif _id < 100:\n",
    "        return '0' + str(_id)\n",
    "    return str(_id)"
   ]
  },
  {
   "cell_type": "code",
   "execution_count": 4,
   "id": "0754e0ce",
   "metadata": {},
   "outputs": [],
   "source": [
    "def affix_additional(results):\n",
    "    \n",
    "    _results = results\n",
    "    _additional_info = {}\n",
    "    \n",
    "    to_delete = []\n",
    "    \n",
    "    for key in _results:\n",
    "        if key not in ['id', 'class', 'description', 'containment']:\n",
    "            _additional_info[key] = _results[key]\n",
    "            to_delete.append(key)\n",
    "            \n",
    "    for key in to_delete:\n",
    "        del _results[key]\n",
    "        \n",
    "    _results['more_info'] = _additional_info\n",
    "        \n",
    "    return _results"
   ]
  },
  {
   "cell_type": "code",
   "execution_count": 11,
   "id": "5a34b87c",
   "metadata": {},
   "outputs": [],
   "source": [
    "def scrape_scp(id):\n",
    "    \n",
    "    result_dict = {}\n",
    "    _id = harmonize_id(id)\n",
    "    url = base_url + _id\n",
    "    response = requests.get(url)\n",
    "    print(url)\n",
    "    soup = BeautifulSoup(response.content, 'html.parser')\n",
    "    \n",
    "    page_content = soup.find('div', id='page-content')\n",
    "    paragraphs = page_content.find_all('p')\n",
    "    \n",
    "    #print(page_content.get_text())\n",
    "\n",
    "    # Process or extract the desired data from the paragraphs\n",
    "    current_key = None\n",
    "    current_value = ''\n",
    "    stop = False\n",
    "    \n",
    "    for paragraph in paragraphs:\n",
    "        \n",
    "        if not stop:\n",
    "            strong_tag = paragraph.find('strong')\n",
    "\n",
    "            if strong_tag:\n",
    "                if current_key:\n",
    "                    _k = relax_key(current_key)\n",
    "                    current_value = re.sub('\\u2588+', '[REDACTED]', current_value)\n",
    "                    result_dict[_k] = current_value.strip()\n",
    "\n",
    "                current_key = strong_tag.get_text()\n",
    "                current_value = paragraph.get_text()[len(current_key):].strip()\n",
    "                \n",
    "\n",
    "            elif paragraph.get_text().startswith('«'):\n",
    "                stop = True\n",
    "\n",
    "            else:\n",
    "                if current_value:\n",
    "                    current_value += ' '\n",
    "\n",
    "                current_value += paragraph.get_text()\n",
    "                \n",
    "    # Add the last key-value pair\n",
    "    if current_key:\n",
    "        current_value = re.sub('\\u2588+', '[REDACTED]', current_value)\n",
    "        result_dict[current_key] = current_value.strip()\n",
    "    \n",
    "    result_dict = affix_additional(result_dict)\n",
    "    \n",
    "    return result_dict"
   ]
  },
  {
   "cell_type": "code",
   "execution_count": 32,
   "id": "9d540a8e",
   "metadata": {},
   "outputs": [
    {
     "name": "stdout",
     "output_type": "stream",
     "text": [
      "https://scp-wiki.wikidot.com/scp-343\n"
     ]
    }
   ],
   "source": [
    "test = (scrape_scp(343))"
   ]
  },
  {
   "cell_type": "code",
   "execution_count": 36,
   "id": "0f443082",
   "metadata": {},
   "outputs": [],
   "source": [
    "db = {}\n",
    "\n",
    "# change these if you want mass scraping\n",
    "start = None\n",
    "end = None\n",
    "\n",
    "if (start != None and end != None):\n",
    "    for i in range(start, end):\n",
    "        db[str(i)] = scrape_scp(i)"
   ]
  },
  {
   "cell_type": "markdown",
   "id": "834c3720",
   "metadata": {},
   "source": [
    "### Write down"
   ]
  },
  {
   "cell_type": "code",
   "execution_count": 55,
   "id": "5acea7ea",
   "metadata": {},
   "outputs": [
    {
     "name": "stdout",
     "output_type": "stream",
     "text": [
      "Dictionary written to scp_database.json successfully.\n"
     ]
    }
   ],
   "source": [
    "file_path = \"scp_database.json\"\n",
    "\n",
    "# Write dictionary to JSON file\n",
    "with open(file_path, \"w\") as file:\n",
    "    json.dump(db, file)\n",
    "\n",
    "print(f\"Dictionary written to {file_path} successfully.\")"
   ]
  }
 ],
 "metadata": {
  "kernelspec": {
   "display_name": "Anaconda (base)",
   "language": "python",
   "name": "anaconda-base"
  },
  "language_info": {
   "codemirror_mode": {
    "name": "ipython",
    "version": 3
   },
   "file_extension": ".py",
   "mimetype": "text/x-python",
   "name": "python",
   "nbconvert_exporter": "python",
   "pygments_lexer": "ipython3",
   "version": "3.9.12"
  }
 },
 "nbformat": 4,
 "nbformat_minor": 5
}
